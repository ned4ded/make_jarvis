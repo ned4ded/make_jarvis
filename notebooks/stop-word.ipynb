{
 "cells": [
  {
   "cell_type": "code",
   "execution_count": 1,
   "metadata": {},
   "outputs": [],
   "source": [
    "from dotenv import dotenv_values\n",
    "import os\n",
    "from pydantic_settings import BaseSettings, SettingsConfigDict\n",
    "\n",
    "\n",
    "notebook_dir = os.getcwd()\n",
    "project_dir = os.path.join(notebook_dir, os.pardir)\n",
    "dotenv_path = os.path.join(project_dir, \".env\")\n",
    "\n",
    "\n",
    "class Settings(BaseSettings):\n",
    "    model_config = SettingsConfigDict(\n",
    "        env_file=dotenv_path, env_file_encoding=\"utf-8\", extra=\"ignore\"\n",
    "    )\n",
    "\n",
    "    picovoice_access_key: str\n",
    "\n",
    "\n",
    "settings = Settings()"
   ]
  },
  {
   "cell_type": "code",
   "execution_count": 2,
   "metadata": {},
   "outputs": [],
   "source": [
    "import pvporcupine\n",
    "\n",
    "try:\n",
    "    porcupine = pvporcupine.create(\n",
    "    access_key=settings.picovoice_access_key,\n",
    "    keyword_paths=['../models/Эй-Конь_ru_mac_v3_0_0.ppn'],\n",
    "    model_path='../models/porcupine_params_ru.pv'\n",
    "    )\n",
    "except pvporcupine.PorcupineInvalidArgumentError as e:\n",
    "    print(\"One or more arguments provided to Porcupine is invalid: \", args)\n",
    "    print(e)\n",
    "    raise e\n",
    "except pvporcupine.PorcupineActivationError as e:\n",
    "    print(\"AccessKey activation error\")\n",
    "    raise e\n",
    "except pvporcupine.PorcupineActivationLimitError as e:\n",
    "    print(\"AccessKey '%s' has reached it's temporary device limit\" % args.access_key)\n",
    "    raise e\n",
    "except pvporcupine.PorcupineActivationRefusedError as e:\n",
    "    print(\"AccessKey '%s' refused\" % args.access_key)\n",
    "    raise e\n",
    "except pvporcupine.PorcupineActivationThrottledError as e:\n",
    "    print(\"AccessKey '%s' has been throttled\" % args.access_key)\n",
    "    raise e\n",
    "except pvporcupine.PorcupineError as e:\n",
    "    print(\"Failed to initialize Porcupine\")\n",
    "    raise e"
   ]
  },
  {
   "cell_type": "code",
   "execution_count": 3,
   "metadata": {},
   "outputs": [
    {
     "name": "stdout",
     "output_type": "stream",
     "text": [
      "Device 0: MacBook Pro Microphone\n",
      "Listening ... (press Ctrl+C to exit)\n",
      "[2024-06-18 20:11:38.282020] Detected Эй-Конь\n",
      "[2024-06-18 20:11:40.260893] Detected Эй-Конь\n",
      "[2024-06-18 20:11:42.963163] Detected Эй-Конь\n",
      "[2024-06-18 20:11:54.211911] Detected Эй-Конь\n",
      "Stopping ...\n"
     ]
    }
   ],
   "source": [
    "from pvrecorder import PvRecorder\n",
    "from datetime import datetime\n",
    "\n",
    "for i, device in enumerate(PvRecorder.get_available_devices()):\n",
    "    print('Device %d: %s' % (i, device))\n",
    "\n",
    "recorder = PvRecorder(\n",
    "    frame_length=porcupine.frame_length,\n",
    "    device_index=0)\n",
    "recorder.start()\n",
    "\n",
    "print('Listening ... (press Ctrl+C to exit)')\n",
    "\n",
    "try:\n",
    "    while True:\n",
    "        pcm = recorder.read()\n",
    "        result = porcupine.process(pcm)\n",
    "\n",
    "        if result >= 0:\n",
    "            print('[%s] Detected %s' % (str(datetime.now()), 'Эй-Конь'))\n",
    "except KeyboardInterrupt:\n",
    "    print('Stopping ...')\n",
    "finally:\n",
    "    recorder.delete()\n",
    "    porcupine.delete()"
   ]
  }
 ],
 "metadata": {
  "kernelspec": {
   "display_name": ".venv",
   "language": "python",
   "name": "python3"
  },
  "language_info": {
   "codemirror_mode": {
    "name": "ipython",
    "version": 3
   },
   "file_extension": ".py",
   "mimetype": "text/x-python",
   "name": "python",
   "nbconvert_exporter": "python",
   "pygments_lexer": "ipython3",
   "version": "3.12.3"
  }
 },
 "nbformat": 4,
 "nbformat_minor": 2
}
